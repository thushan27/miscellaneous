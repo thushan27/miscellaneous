{
 "cells": [
  {
   "cell_type": "code",
   "execution_count": 1,
   "id": "13208c6a",
   "metadata": {},
   "outputs": [
    {
     "data": {
      "text/plain": [
       "'\\nmaxProductOf3 - Maximize A[P] * A[Q] * A[R] for any triplet (P, Q, R). \\n'"
      ]
     },
     "execution_count": 1,
     "metadata": {},
     "output_type": "execute_result"
    }
   ],
   "source": [
    "\"\"\"\n",
    "maxProductOf3 - Maximize A[P] * A[Q] * A[R] for any triplet (P, Q, R). \n",
    "\"\"\""
   ]
  },
  {
   "cell_type": "code",
   "execution_count": 2,
   "id": "86e77ef4",
   "metadata": {},
   "outputs": [],
   "source": [
    "def maxProductOf3(a):\n",
    "    \n",
    "    arr=[]\n",
    "    \n",
    "    for i in range(len(a)):\n",
    "        for j in range(i+1,len(a)):\n",
    "            for k in range(j+1,len(a)):\n",
    "                val = a[i]*a[j]*a[k]\n",
    "                arr.append(val)\n",
    "    \n",
    "    return max(arr)"
   ]
  },
  {
   "cell_type": "code",
   "execution_count": 3,
   "id": "647f9746",
   "metadata": {},
   "outputs": [
    {
     "data": {
      "text/plain": [
       "60"
      ]
     },
     "execution_count": 3,
     "metadata": {},
     "output_type": "execute_result"
    }
   ],
   "source": [
    "A=[-3,1,2,-2,5,6]\n",
    "\n",
    "maxProductOf3(A)"
   ]
  }
 ],
 "metadata": {
  "kernelspec": {
   "display_name": "Python 3",
   "language": "python",
   "name": "python3"
  },
  "language_info": {
   "codemirror_mode": {
    "name": "ipython",
    "version": 3
   },
   "file_extension": ".py",
   "mimetype": "text/x-python",
   "name": "python",
   "nbconvert_exporter": "python",
   "pygments_lexer": "ipython3",
   "version": "3.8.8"
  }
 },
 "nbformat": 4,
 "nbformat_minor": 5
}
