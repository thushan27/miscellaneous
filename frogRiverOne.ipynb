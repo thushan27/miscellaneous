{
 "cells": [
  {
   "cell_type": "code",
   "execution_count": 1,
   "id": "cc13141b",
   "metadata": {},
   "outputs": [
    {
     "data": {
      "text/plain": [
       "'\\nFrogRiverOne - Find the earliest time when a frog can jump to the other side of a river. \\n'"
      ]
     },
     "execution_count": 1,
     "metadata": {},
     "output_type": "execute_result"
    }
   ],
   "source": [
    "\"\"\"\n",
    "FrogRiverOne - Find the earliest time when a frog can jump to the other side of a river. \n",
    "\"\"\""
   ]
  },
  {
   "cell_type": "code",
   "execution_count": 2,
   "id": "c526985b",
   "metadata": {},
   "outputs": [],
   "source": [
    "def frogRiverOne(a,x):\n",
    "    \n",
    "    count=0\n",
    "    numbers = a\n",
    "    sort=sorted(a)\n",
    "    unique_numbers = list(set(numbers))\n",
    "    \n",
    "    for i in range(0,len(unique_numbers)-1):\n",
    "        if unique_numbers[i]!=unique_numbers[i+1]-1:\n",
    "            return -1\n",
    "\n",
    "    for i in range(0,len(a)):\n",
    "        if sort[i]==x:\n",
    "            return count\n",
    "        else:\n",
    "            count=count+1"
   ]
  },
  {
   "cell_type": "code",
   "execution_count": 3,
   "id": "b8601938",
   "metadata": {},
   "outputs": [
    {
     "data": {
      "text/plain": [
       "7"
      ]
     },
     "execution_count": 3,
     "metadata": {},
     "output_type": "execute_result"
    }
   ],
   "source": [
    "num=[1,3,1,4,3,2,5,4]\n",
    "\n",
    "frogRiverOne(num,5)"
   ]
  }
 ],
 "metadata": {
  "kernelspec": {
   "display_name": "Python 3",
   "language": "python",
   "name": "python3"
  },
  "language_info": {
   "codemirror_mode": {
    "name": "ipython",
    "version": 3
   },
   "file_extension": ".py",
   "mimetype": "text/x-python",
   "name": "python",
   "nbconvert_exporter": "python",
   "pygments_lexer": "ipython3",
   "version": "3.8.8"
  }
 },
 "nbformat": 4,
 "nbformat_minor": 5
}
