{
 "cells": [
  {
   "cell_type": "code",
   "execution_count": 1,
   "id": "baeddc2c",
   "metadata": {},
   "outputs": [
    {
     "data": {
      "text/plain": [
       "'\\nMaxProfit - Given a log of stock prices compute the maximum possible earning. \\n'"
      ]
     },
     "execution_count": 1,
     "metadata": {},
     "output_type": "execute_result"
    }
   ],
   "source": [
    "\"\"\"\n",
    "MaxProfit - Given a log of stock prices compute the maximum possible earning. \n",
    "\"\"\""
   ]
  },
  {
   "cell_type": "code",
   "execution_count": 2,
   "id": "640768f0",
   "metadata": {},
   "outputs": [],
   "source": [
    "def maxProfit(a):\n",
    "    \n",
    "    arr=[]\n",
    "    for i in range(len(a)):\n",
    "        for j in range(i,len(a)):\n",
    "            if a[j]-a[i]>=0:\n",
    "                arr.append(a[j]-a[i])\n",
    "            else:\n",
    "                continue\n",
    "    if len(arr)==0:\n",
    "        return 0\n",
    "    else:\n",
    "        return max(arr)"
   ]
  },
  {
   "cell_type": "code",
   "execution_count": 3,
   "id": "a604ce57",
   "metadata": {},
   "outputs": [
    {
     "data": {
      "text/plain": [
       "356"
      ]
     },
     "execution_count": 3,
     "metadata": {},
     "output_type": "execute_result"
    }
   ],
   "source": [
    "A=[23171,21011,21123,21366,21013,21367]\n",
    "maxProfit(A)"
   ]
  }
 ],
 "metadata": {
  "kernelspec": {
   "display_name": "Python 3",
   "language": "python",
   "name": "python3"
  },
  "language_info": {
   "codemirror_mode": {
    "name": "ipython",
    "version": 3
   },
   "file_extension": ".py",
   "mimetype": "text/x-python",
   "name": "python",
   "nbconvert_exporter": "python",
   "pygments_lexer": "ipython3",
   "version": "3.8.8"
  }
 },
 "nbformat": 4,
 "nbformat_minor": 5
}
