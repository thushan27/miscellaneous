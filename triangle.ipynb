{
 "cells": [
  {
   "cell_type": "code",
   "execution_count": 1,
   "id": "896a73de",
   "metadata": {},
   "outputs": [
    {
     "data": {
      "text/plain": [
       "'Triangle - Determine whether a triangle can be built from a given set of edges. '"
      ]
     },
     "execution_count": 1,
     "metadata": {},
     "output_type": "execute_result"
    }
   ],
   "source": [
    "\"\"\"Triangle - Determine whether a triangle can be built from a given set of edges. \"\"\""
   ]
  },
  {
   "cell_type": "code",
   "execution_count": 2,
   "id": "e454e723",
   "metadata": {},
   "outputs": [],
   "source": [
    "def triangle(a):\n",
    "    \n",
    "    count=0\n",
    "    if len(a)<3:\n",
    "        return 0\n",
    "    \n",
    "    for i in range(len(a)):\n",
    "        for j in range(len(a)):\n",
    "            for k in range(len(a)):\n",
    "                if (a[i]+a[j]>a[k]) and (a[j]+a[k]>a[i]) and (a[k]+a[i]>a[j]) and (i!=j) and (j!=k) and (k!=i) and (0<=i) and (i<j) and (j<k) and (k<len(a)):\n",
    "                    count=count+1\n",
    "                else:\n",
    "                    continue\n",
    "    if count>0:\n",
    "        return 1\n",
    "    else:\n",
    "        return 0"
   ]
  },
  {
   "cell_type": "code",
   "execution_count": 3,
   "id": "4b5da09d",
   "metadata": {},
   "outputs": [
    {
     "data": {
      "text/plain": [
       "1"
      ]
     },
     "execution_count": 3,
     "metadata": {},
     "output_type": "execute_result"
    }
   ],
   "source": [
    "A=[10,2,5,1,8,20]\n",
    "\n",
    "triangle(A)"
   ]
  }
 ],
 "metadata": {
  "kernelspec": {
   "display_name": "Python 3",
   "language": "python",
   "name": "python3"
  },
  "language_info": {
   "codemirror_mode": {
    "name": "ipython",
    "version": 3
   },
   "file_extension": ".py",
   "mimetype": "text/x-python",
   "name": "python",
   "nbconvert_exporter": "python",
   "pygments_lexer": "ipython3",
   "version": "3.8.8"
  }
 },
 "nbformat": 4,
 "nbformat_minor": 5
}
