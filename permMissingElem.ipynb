{
 "cells": [
  {
   "cell_type": "code",
   "execution_count": 1,
   "id": "f6d798ed",
   "metadata": {},
   "outputs": [
    {
     "data": {
      "text/plain": [
       "'\\nPermMissingElem - Find the missing element in a given permutation. \\n'"
      ]
     },
     "execution_count": 1,
     "metadata": {},
     "output_type": "execute_result"
    }
   ],
   "source": [
    "\"\"\"\n",
    "PermMissingElem - Find the missing element in a given permutation. \n",
    "\"\"\""
   ]
  },
  {
   "cell_type": "code",
   "execution_count": 2,
   "id": "05840cb9",
   "metadata": {},
   "outputs": [],
   "source": [
    "def permMissingElem(A):\n",
    "    \n",
    "    newArray=sorted(A)\n",
    "    \n",
    "    for i in range(0,len(newArray)-1):\n",
    "        if (newArray[i]!=newArray[i+1]-1) and (newArray[i]>0):\n",
    "            return newArray[i]+1\n",
    "    return 1"
   ]
  },
  {
   "cell_type": "code",
   "execution_count": 3,
   "id": "18930780",
   "metadata": {},
   "outputs": [
    {
     "data": {
      "text/plain": [
       "4"
      ]
     },
     "execution_count": 3,
     "metadata": {},
     "output_type": "execute_result"
    }
   ],
   "source": [
    "A = [1,2,3,5,6]\n",
    "\n",
    "permMissingElem(A)"
   ]
  }
 ],
 "metadata": {
  "kernelspec": {
   "display_name": "Python 3",
   "language": "python",
   "name": "python3"
  },
  "language_info": {
   "codemirror_mode": {
    "name": "ipython",
    "version": 3
   },
   "file_extension": ".py",
   "mimetype": "text/x-python",
   "name": "python",
   "nbconvert_exporter": "python",
   "pygments_lexer": "ipython3",
   "version": "3.8.8"
  }
 },
 "nbformat": 4,
 "nbformat_minor": 5
}
