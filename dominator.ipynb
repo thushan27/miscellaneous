{
 "cells": [
  {
   "cell_type": "code",
   "execution_count": 1,
   "id": "5122fec2",
   "metadata": {},
   "outputs": [
    {
     "data": {
      "text/plain": [
       "'Dominator - Find an index of an array such that its value occurs at more than half of indices in the array. '"
      ]
     },
     "execution_count": 1,
     "metadata": {},
     "output_type": "execute_result"
    }
   ],
   "source": [
    "\"\"\"Dominator - Find an index of an array such that its value occurs at more than half of indices in the array. \"\"\""
   ]
  },
  {
   "cell_type": "code",
   "execution_count": 2,
   "id": "09b87535",
   "metadata": {},
   "outputs": [],
   "source": [
    "def dominator(a):\n",
    "    \n",
    "    count=len(a)\n",
    "    unique_numbers = list(set(a))\n",
    "    arr=[]\n",
    "    final=[]\n",
    "    \n",
    "    for i in unique_numbers:\n",
    "        counter=0\n",
    "        for j in a:\n",
    "            if i==j:\n",
    "                counter=counter+1\n",
    "            else:\n",
    "                continue\n",
    "        \n",
    "        if counter/count >= 0.5:\n",
    "            arr.append(i)\n",
    "    \n",
    "    for i in arr:\n",
    "        for j in range(len(a)):\n",
    "            if i==a[j]:  \n",
    "                final.append(j)\n",
    "        else:\n",
    "            continue\n",
    "            \n",
    "    for i in final:\n",
    "        print(i)"
   ]
  },
  {
   "cell_type": "code",
   "execution_count": 3,
   "id": "0bb87c21",
   "metadata": {},
   "outputs": [
    {
     "name": "stdout",
     "output_type": "stream",
     "text": [
      "0\n",
      "2\n",
      "4\n",
      "6\n",
      "7\n"
     ]
    }
   ],
   "source": [
    "A=[3,4,3,2,3,-1,3,3]\n",
    "\n",
    "dominator(A)"
   ]
  }
 ],
 "metadata": {
  "kernelspec": {
   "display_name": "Python 3",
   "language": "python",
   "name": "python3"
  },
  "language_info": {
   "codemirror_mode": {
    "name": "ipython",
    "version": 3
   },
   "file_extension": ".py",
   "mimetype": "text/x-python",
   "name": "python",
   "nbconvert_exporter": "python",
   "pygments_lexer": "ipython3",
   "version": "3.8.8"
  }
 },
 "nbformat": 4,
 "nbformat_minor": 5
}
