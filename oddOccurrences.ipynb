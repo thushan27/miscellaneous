{
 "cells": [
  {
   "cell_type": "code",
   "execution_count": 1,
   "id": "d2807b8c",
   "metadata": {},
   "outputs": [
    {
     "data": {
      "text/plain": [
       "'\\nOddOccurrencesInArray - Find value that occurs odd number of times. \\n'"
      ]
     },
     "execution_count": 1,
     "metadata": {},
     "output_type": "execute_result"
    }
   ],
   "source": [
    "\"\"\"\n",
    "OddOccurrencesInArray - Find value that occurs odd number of times. \n",
    "\"\"\""
   ]
  },
  {
   "cell_type": "code",
   "execution_count": 2,
   "id": "52f1dcd0",
   "metadata": {},
   "outputs": [],
   "source": [
    "def oddOccurrences(a):\n",
    "    \n",
    "    uniqueval=[]\n",
    "    \n",
    "    for i in a:\n",
    "        \n",
    "        counter=0\n",
    "\n",
    "        for j in a:\n",
    "            \n",
    "            if i==j:\n",
    "                counter=counter+1\n",
    "            else:\n",
    "                continue\n",
    "\n",
    "        if counter%2!=0:\n",
    "            uniqueval.append(i)\n",
    "            \n",
    "    return uniqueval[0]"
   ]
  },
  {
   "cell_type": "code",
   "execution_count": 3,
   "id": "aa4b7256",
   "metadata": {},
   "outputs": [
    {
     "data": {
      "text/plain": [
       "7"
      ]
     },
     "execution_count": 3,
     "metadata": {},
     "output_type": "execute_result"
    }
   ],
   "source": [
    "oddOccurrences([9,3,9,3,9,7,9])"
   ]
  }
 ],
 "metadata": {
  "kernelspec": {
   "display_name": "Python 3",
   "language": "python",
   "name": "python3"
  },
  "language_info": {
   "codemirror_mode": {
    "name": "ipython",
    "version": 3
   },
   "file_extension": ".py",
   "mimetype": "text/x-python",
   "name": "python",
   "nbconvert_exporter": "python",
   "pygments_lexer": "ipython3",
   "version": "3.8.8"
  }
 },
 "nbformat": 4,
 "nbformat_minor": 5
}
