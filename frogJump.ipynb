{
 "cells": [
  {
   "cell_type": "code",
   "execution_count": 1,
   "id": "cb163199",
   "metadata": {},
   "outputs": [
    {
     "data": {
      "text/plain": [
       "'\\nFrogJump - Count minimal number of jumps from position x to y, given distance per jump d. \\n'"
      ]
     },
     "execution_count": 1,
     "metadata": {},
     "output_type": "execute_result"
    }
   ],
   "source": [
    "\"\"\"\n",
    "FrogJump - Count minimal number of jumps from position x to y, given distance per jump d. \n",
    "\"\"\""
   ]
  },
  {
   "cell_type": "code",
   "execution_count": 2,
   "id": "e11fa13c",
   "metadata": {},
   "outputs": [],
   "source": [
    "def frogJump(x, y, d):\n",
    "    \n",
    "    if x>=y:\n",
    "        return 0\n",
    "    elif ((y-x)%d)==0:\n",
    "        return int((y-x)/d)\n",
    "    else:\n",
    "        return int((y-x)/d) + 1"
   ]
  },
  {
   "cell_type": "code",
   "execution_count": 3,
   "id": "b6b52871",
   "metadata": {},
   "outputs": [
    {
     "data": {
      "text/plain": [
       "3"
      ]
     },
     "execution_count": 3,
     "metadata": {},
     "output_type": "execute_result"
    }
   ],
   "source": [
    "frogJump(10,100,30)"
   ]
  }
 ],
 "metadata": {
  "kernelspec": {
   "display_name": "Python 3",
   "language": "python",
   "name": "python3"
  },
  "language_info": {
   "codemirror_mode": {
    "name": "ipython",
    "version": 3
   },
   "file_extension": ".py",
   "mimetype": "text/x-python",
   "name": "python",
   "nbconvert_exporter": "python",
   "pygments_lexer": "ipython3",
   "version": "3.8.8"
  }
 },
 "nbformat": 4,
 "nbformat_minor": 5
}
