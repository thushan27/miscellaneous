{
 "cells": [
  {
   "cell_type": "code",
   "execution_count": 1,
   "id": "92ca5397",
   "metadata": {},
   "outputs": [
    {
     "data": {
      "text/plain": [
       "'\\nCountFactors - Count factors of given number n. \\n'"
      ]
     },
     "execution_count": 1,
     "metadata": {},
     "output_type": "execute_result"
    }
   ],
   "source": [
    "\"\"\"\n",
    "CountFactors - Count factors of given number n. \n",
    "\"\"\""
   ]
  },
  {
   "cell_type": "code",
   "execution_count": 2,
   "id": "c040f341",
   "metadata": {},
   "outputs": [],
   "source": [
    "def factors(n):\n",
    "    \n",
    "    arr=[]\n",
    "    \n",
    "    for i in range(1,n+1):\n",
    "        if n%i==0:\n",
    "            arr.append(i)\n",
    "        else:\n",
    "            continue\n",
    "            \n",
    "    return len(arr)"
   ]
  },
  {
   "cell_type": "code",
   "execution_count": 3,
   "id": "a1a9dddd",
   "metadata": {},
   "outputs": [
    {
     "data": {
      "text/plain": [
       "8"
      ]
     },
     "execution_count": 3,
     "metadata": {},
     "output_type": "execute_result"
    }
   ],
   "source": [
    "factors(24)"
   ]
  }
 ],
 "metadata": {
  "kernelspec": {
   "display_name": "Python 3",
   "language": "python",
   "name": "python3"
  },
  "language_info": {
   "codemirror_mode": {
    "name": "ipython",
    "version": 3
   },
   "file_extension": ".py",
   "mimetype": "text/x-python",
   "name": "python",
   "nbconvert_exporter": "python",
   "pygments_lexer": "ipython3",
   "version": "3.8.8"
  }
 },
 "nbformat": 4,
 "nbformat_minor": 5
}
