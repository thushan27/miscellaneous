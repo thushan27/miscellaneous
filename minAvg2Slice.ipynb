{
 "cells": [
  {
   "cell_type": "code",
   "execution_count": 1,
   "id": "db800a39",
   "metadata": {},
   "outputs": [
    {
     "data": {
      "text/plain": [
       "'MinAvg2Slice - Find the minimal average of any slice containing at least two elements. '"
      ]
     },
     "execution_count": 1,
     "metadata": {},
     "output_type": "execute_result"
    }
   ],
   "source": [
    "\"\"\"MinAvg2Slice - Find the minimal average of any slice containing at least two elements. \"\"\""
   ]
  },
  {
   "cell_type": "code",
   "execution_count": 2,
   "id": "9157daac",
   "metadata": {},
   "outputs": [],
   "source": [
    "def minAvg2Slice(a):\n",
    "    \n",
    "    arr=[]\n",
    "    position=[]\n",
    "    val=0\n",
    "    \n",
    "    for i in range(len(a)):\n",
    "        \n",
    "        for j in range(i+2, len(a)):\n",
    "            \n",
    "            slice = a[i:j]\n",
    "            arr.append(sum(slice)/len(slice))\n",
    "            position.append(i)\n",
    "    \n",
    "    print(position[arr.index(min(arr))])"
   ]
  },
  {
   "cell_type": "code",
   "execution_count": 3,
   "id": "9fb86c36",
   "metadata": {},
   "outputs": [
    {
     "name": "stdout",
     "output_type": "stream",
     "text": [
      "1\n"
     ]
    }
   ],
   "source": [
    "A=[4,2,2,5,1,5,8]\n",
    "\n",
    "minAvg2Slice(A)"
   ]
  }
 ],
 "metadata": {
  "kernelspec": {
   "display_name": "Python 3",
   "language": "python",
   "name": "python3"
  },
  "language_info": {
   "codemirror_mode": {
    "name": "ipython",
    "version": 3
   },
   "file_extension": ".py",
   "mimetype": "text/x-python",
   "name": "python",
   "nbconvert_exporter": "python",
   "pygments_lexer": "ipython3",
   "version": "3.8.8"
  }
 },
 "nbformat": 4,
 "nbformat_minor": 5
}
