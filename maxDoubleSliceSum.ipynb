{
 "cells": [
  {
   "cell_type": "code",
   "execution_count": 1,
   "id": "34ede3c1",
   "metadata": {},
   "outputs": [
    {
     "data": {
      "text/plain": [
       "'\\nMaxDoubleSliceSum - Find the maximal sum of any double slice. \\n'"
      ]
     },
     "execution_count": 1,
     "metadata": {},
     "output_type": "execute_result"
    }
   ],
   "source": [
    "\"\"\"\n",
    "MaxDoubleSliceSum - Find the maximal sum of any double slice. \n",
    "\"\"\""
   ]
  },
  {
   "cell_type": "code",
   "execution_count": 2,
   "id": "d5bb4669",
   "metadata": {},
   "outputs": [],
   "source": [
    "def maxDoubleSliceSum(a):\n",
    "    \n",
    "    arr=[]\n",
    "    for i in range(len(a)):\n",
    "        for j in range(i+1, len(a)):\n",
    "            for k in range(j+1,len(a)):\n",
    "                arr.append(sum(a[i:j])-a[i]+sum(a[j:k])-a[j])\n",
    "    return max(arr)"
   ]
  },
  {
   "cell_type": "code",
   "execution_count": 3,
   "id": "8078a758",
   "metadata": {},
   "outputs": [
    {
     "data": {
      "text/plain": [
       "17"
      ]
     },
     "execution_count": 3,
     "metadata": {},
     "output_type": "execute_result"
    }
   ],
   "source": [
    "A=[3,2,6,-1,4,5,-1,2]\n",
    "\n",
    "maxDoubleSliceSum(A)"
   ]
  }
 ],
 "metadata": {
  "kernelspec": {
   "display_name": "Python 3",
   "language": "python",
   "name": "python3"
  },
  "language_info": {
   "codemirror_mode": {
    "name": "ipython",
    "version": 3
   },
   "file_extension": ".py",
   "mimetype": "text/x-python",
   "name": "python",
   "nbconvert_exporter": "python",
   "pygments_lexer": "ipython3",
   "version": "3.8.8"
  }
 },
 "nbformat": 4,
 "nbformat_minor": 5
}
