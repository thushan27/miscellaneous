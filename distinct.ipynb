{
 "cells": [
  {
   "cell_type": "code",
   "execution_count": 1,
   "id": "96d4010b",
   "metadata": {},
   "outputs": [
    {
     "data": {
      "text/plain": [
       "'Distinct - Compute number of distinct values in an array. '"
      ]
     },
     "execution_count": 1,
     "metadata": {},
     "output_type": "execute_result"
    }
   ],
   "source": [
    "\"\"\"Distinct - Compute number of distinct values in an array. \"\"\""
   ]
  },
  {
   "cell_type": "code",
   "execution_count": 2,
   "id": "ed613355",
   "metadata": {},
   "outputs": [],
   "source": [
    "def distinct(a):\n",
    "    \n",
    "    unique_numbers = list(set(a))\n",
    "    print(len(unique_numbers))"
   ]
  },
  {
   "cell_type": "code",
   "execution_count": 3,
   "id": "22f2f9d7",
   "metadata": {},
   "outputs": [
    {
     "name": "stdout",
     "output_type": "stream",
     "text": [
      "3\n"
     ]
    }
   ],
   "source": [
    "distinct([2,1,1,2,3,1])"
   ]
  }
 ],
 "metadata": {
  "kernelspec": {
   "display_name": "Python 3",
   "language": "python",
   "name": "python3"
  },
  "language_info": {
   "codemirror_mode": {
    "name": "ipython",
    "version": 3
   },
   "file_extension": ".py",
   "mimetype": "text/x-python",
   "name": "python",
   "nbconvert_exporter": "python",
   "pygments_lexer": "ipython3",
   "version": "3.8.8"
  }
 },
 "nbformat": 4,
 "nbformat_minor": 5
}
