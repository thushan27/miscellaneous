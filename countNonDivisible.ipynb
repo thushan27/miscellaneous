{
 "cells": [
  {
   "cell_type": "code",
   "execution_count": 1,
   "id": "7c76709e",
   "metadata": {},
   "outputs": [
    {
     "data": {
      "text/plain": [
       "'\\nCountNonDivisible - display the number of elements of an array that are not divisors for each element. \\n'"
      ]
     },
     "execution_count": 1,
     "metadata": {},
     "output_type": "execute_result"
    }
   ],
   "source": [
    "\"\"\"\n",
    "CountNonDivisible - display the number of elements of an array that are not divisors for each element. \n",
    "\"\"\""
   ]
  },
  {
   "cell_type": "code",
   "execution_count": 2,
   "id": "a7f9a4a5",
   "metadata": {},
   "outputs": [],
   "source": [
    "def nonDivisible(a):\n",
    "    \n",
    "    arr=[]\n",
    "    \n",
    "    for i in range(len(a)):\n",
    "        count = 0\n",
    "        for j in range(len(a)):\n",
    "            if i!=j and (a[i]%a[j]!=0):\n",
    "                count=count+1\n",
    "            else:\n",
    "                continue\n",
    "        arr.append(count)\n",
    "    return arr"
   ]
  },
  {
   "cell_type": "code",
   "execution_count": 3,
   "id": "f0c6414b",
   "metadata": {},
   "outputs": [
    {
     "data": {
      "text/plain": [
       "[2, 4, 3, 2, 0]"
      ]
     },
     "execution_count": 3,
     "metadata": {},
     "output_type": "execute_result"
    }
   ],
   "source": [
    "A=[3,1,2,3,6]\n",
    "\n",
    "nonDivisible(A)"
   ]
  }
 ],
 "metadata": {
  "kernelspec": {
   "display_name": "Python 3",
   "language": "python",
   "name": "python3"
  },
  "language_info": {
   "codemirror_mode": {
    "name": "ipython",
    "version": 3
   },
   "file_extension": ".py",
   "mimetype": "text/x-python",
   "name": "python",
   "nbconvert_exporter": "python",
   "pygments_lexer": "ipython3",
   "version": "3.8.8"
  }
 },
 "nbformat": 4,
 "nbformat_minor": 5
}
