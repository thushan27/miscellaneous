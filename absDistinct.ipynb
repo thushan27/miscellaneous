{
 "cells": [
  {
   "cell_type": "code",
   "execution_count": 1,
   "id": "c152c4fa",
   "metadata": {},
   "outputs": [
    {
     "data": {
      "text/plain": [
       "'\\nAbsDistinct - Compute number of distinct absolute values of sorted array elements. \\n'"
      ]
     },
     "execution_count": 1,
     "metadata": {},
     "output_type": "execute_result"
    }
   ],
   "source": [
    "\"\"\"\n",
    "AbsDistinct - Compute number of distinct absolute values of sorted array elements. \n",
    "\"\"\""
   ]
  },
  {
   "cell_type": "code",
   "execution_count": 2,
   "id": "a7bdd3ef",
   "metadata": {},
   "outputs": [],
   "source": [
    "def absDistinct(a):\n",
    "    \n",
    "    new_a=[]\n",
    "    \n",
    "    for i in a:\n",
    "        new_a.append(abs(i))\n",
    "    \n",
    "    \n",
    "    unique_numbers = list(set(new_a))\n",
    "    \n",
    "    return len(unique_numbers)"
   ]
  },
  {
   "cell_type": "code",
   "execution_count": 3,
   "id": "08d7d69b",
   "metadata": {},
   "outputs": [
    {
     "data": {
      "text/plain": [
       "5"
      ]
     },
     "execution_count": 3,
     "metadata": {},
     "output_type": "execute_result"
    }
   ],
   "source": [
    "A=[-5,-3,-1,0,3,6]\n",
    "\n",
    "absDistinct(A)"
   ]
  }
 ],
 "metadata": {
  "kernelspec": {
   "display_name": "Python 3",
   "language": "python",
   "name": "python3"
  },
  "language_info": {
   "codemirror_mode": {
    "name": "ipython",
    "version": 3
   },
   "file_extension": ".py",
   "mimetype": "text/x-python",
   "name": "python",
   "nbconvert_exporter": "python",
   "pygments_lexer": "ipython3",
   "version": "3.8.8"
  }
 },
 "nbformat": 4,
 "nbformat_minor": 5
}
