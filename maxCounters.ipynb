{
 "cells": [
  {
   "cell_type": "code",
   "execution_count": 1,
   "id": "7b1f911e",
   "metadata": {},
   "outputs": [
    {
     "data": {
      "text/plain": [
       "'\\nMaxCounters - Calculate the values of counters after applying all alternating operations: \\nincrease counter by 1; set value of all counters to current maximum.\\n'"
      ]
     },
     "execution_count": 1,
     "metadata": {},
     "output_type": "execute_result"
    }
   ],
   "source": [
    "\"\"\"\n",
    "MaxCounters - Calculate the values of counters after applying all alternating operations: \n",
    "increase counter by 1; set value of all counters to current maximum.\n",
    "\"\"\""
   ]
  },
  {
   "cell_type": "code",
   "execution_count": 2,
   "id": "699764d6",
   "metadata": {},
   "outputs": [],
   "source": [
    "import numpy as np\n",
    "\n",
    "def maxCounters(a,n):\n",
    "    \n",
    "    counters = [0]*n\n",
    "    \n",
    "    for i in range(0,len(a)):\n",
    "        \n",
    "        if a[i]==n+1:\n",
    "            counters=[max(counters)]*n\n",
    "        elif a[i]<1 or a[i]>n:\n",
    "            counters=counters\n",
    "        elif a[i]>=1 and a[i]<=n:\n",
    "            counters=np.array(counters)+np.array([1]*n)\n",
    "        else:\n",
    "            continue\n",
    "    \n",
    "    return counters"
   ]
  },
  {
   "cell_type": "code",
   "execution_count": 3,
   "id": "63924110",
   "metadata": {},
   "outputs": [
    {
     "data": {
      "text/plain": [
       "array([1])"
      ]
     },
     "execution_count": 3,
     "metadata": {},
     "output_type": "execute_result"
    }
   ],
   "source": [
    "arr=[3,4,4,6,1,4,4]\n",
    "\n",
    "maxCounters(arr,1)"
   ]
  }
 ],
 "metadata": {
  "kernelspec": {
   "display_name": "Python 3",
   "language": "python",
   "name": "python3"
  },
  "language_info": {
   "codemirror_mode": {
    "name": "ipython",
    "version": 3
   },
   "file_extension": ".py",
   "mimetype": "text/x-python",
   "name": "python",
   "nbconvert_exporter": "python",
   "pygments_lexer": "ipython3",
   "version": "3.8.8"
  }
 },
 "nbformat": 4,
 "nbformat_minor": 5
}
