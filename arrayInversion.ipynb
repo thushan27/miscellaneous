{
 "cells": [
  {
   "cell_type": "code",
   "execution_count": 1,
   "id": "33db5938",
   "metadata": {},
   "outputs": [
    {
     "data": {
      "text/plain": [
       "'\\nAn inversion is a pair of indexes (P, Q) such that P < Q and A[Q] < A[P].\\n\\nWrite a function that computes the number of inversions in A, or returns −1 if it exceeds 1,000,000,000.\\n'"
      ]
     },
     "execution_count": 1,
     "metadata": {},
     "output_type": "execute_result"
    }
   ],
   "source": [
    "\"\"\"\n",
    "An inversion is a pair of indexes (P, Q) such that P < Q and A[Q] < A[P].\n",
    "\n",
    "Write a function that computes the number of inversions in A, or returns −1 if it exceeds 1,000,000,000.\n",
    "\"\"\""
   ]
  },
  {
   "cell_type": "code",
   "execution_count": 2,
   "id": "8c94b609",
   "metadata": {},
   "outputs": [],
   "source": [
    "def arrayInversion(a):\n",
    "    \n",
    "    count=0\n",
    "    \n",
    "    for i in range(0,len(a)):\n",
    "        for j in range(i+1,len(a)):\n",
    "            if a[j] < a[i]:\n",
    "                count=count+1\n",
    "                \n",
    "    if count > 1000000000:\n",
    "        return -1\n",
    "    \n",
    "    return count"
   ]
  },
  {
   "cell_type": "code",
   "execution_count": 3,
   "id": "ce79712b",
   "metadata": {},
   "outputs": [
    {
     "data": {
      "text/plain": [
       "4"
      ]
     },
     "execution_count": 3,
     "metadata": {},
     "output_type": "execute_result"
    }
   ],
   "source": [
    "A=[-1,6,3,4,7,4]\n",
    "\n",
    "arrayInversion(A)"
   ]
  }
 ],
 "metadata": {
  "kernelspec": {
   "display_name": "Python 3",
   "language": "python",
   "name": "python3"
  },
  "language_info": {
   "codemirror_mode": {
    "name": "ipython",
    "version": 3
   },
   "file_extension": ".py",
   "mimetype": "text/x-python",
   "name": "python",
   "nbconvert_exporter": "python",
   "pygments_lexer": "ipython3",
   "version": "3.8.8"
  }
 },
 "nbformat": 4,
 "nbformat_minor": 5
}
