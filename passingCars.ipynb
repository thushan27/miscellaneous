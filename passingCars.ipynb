{
 "cells": [
  {
   "cell_type": "code",
   "execution_count": 1,
   "id": "24be2f8d",
   "metadata": {},
   "outputs": [
    {
     "data": {
      "text/plain": [
       "'\\nPassingCars - Count the number of passing cars on the road. \\n'"
      ]
     },
     "execution_count": 1,
     "metadata": {},
     "output_type": "execute_result"
    }
   ],
   "source": [
    "\"\"\"\n",
    "PassingCars - Count the number of passing cars on the road. \n",
    "\"\"\""
   ]
  },
  {
   "cell_type": "code",
   "execution_count": 2,
   "id": "3f079ebe",
   "metadata": {},
   "outputs": [],
   "source": [
    "def passingCars(a):\n",
    "    \n",
    "    zero=[]\n",
    "    one=[]\n",
    "    final=[]\n",
    "    \n",
    "    for i in range(len(a)):\n",
    "        if a[i]==0:\n",
    "            for j in range(i, len(a)):\n",
    "                if a[j]==1:\n",
    "                    final.append((a[i],a[j]))\n",
    "                else:\n",
    "                    continue\n",
    "        else:\n",
    "            continue\n",
    "    \n",
    "    if len(final)>1000000:\n",
    "        return -1\n",
    "    else:\n",
    "        print(len(final))"
   ]
  },
  {
   "cell_type": "code",
   "execution_count": 3,
   "id": "91dd1f1d",
   "metadata": {},
   "outputs": [
    {
     "name": "stdout",
     "output_type": "stream",
     "text": [
      "5\n"
     ]
    }
   ],
   "source": [
    "passingCars([0,1,0,1,1])"
   ]
  }
 ],
 "metadata": {
  "kernelspec": {
   "display_name": "Python 3",
   "language": "python",
   "name": "python3"
  },
  "language_info": {
   "codemirror_mode": {
    "name": "ipython",
    "version": 3
   },
   "file_extension": ".py",
   "mimetype": "text/x-python",
   "name": "python",
   "nbconvert_exporter": "python",
   "pygments_lexer": "ipython3",
   "version": "3.8.8"
  }
 },
 "nbformat": 4,
 "nbformat_minor": 5
}
