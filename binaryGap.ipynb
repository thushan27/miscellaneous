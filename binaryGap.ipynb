{
 "cells": [
  {
   "cell_type": "code",
   "execution_count": 1,
   "id": "c48dc6b2",
   "metadata": {},
   "outputs": [
    {
     "data": {
      "text/plain": [
       "'\\nbinaryGap - Find longest sequence of zeros in binary representation of an integer. \\n'"
      ]
     },
     "execution_count": 1,
     "metadata": {},
     "output_type": "execute_result"
    }
   ],
   "source": [
    "\"\"\"\n",
    "binaryGap - Find longest sequence of zeros in binary representation of an integer. \n",
    "\"\"\""
   ]
  },
  {
   "cell_type": "code",
   "execution_count": 2,
   "id": "f4c3100a",
   "metadata": {},
   "outputs": [],
   "source": [
    "def int2bin(n):\n",
    "    return \"{0:b}\".format(n)"
   ]
  },
  {
   "cell_type": "code",
   "execution_count": 3,
   "id": "f82cf5b9",
   "metadata": {},
   "outputs": [
    {
     "data": {
      "text/plain": [
       "'1001'"
      ]
     },
     "execution_count": 3,
     "metadata": {},
     "output_type": "execute_result"
    }
   ],
   "source": [
    "int2bin(9)"
   ]
  },
  {
   "cell_type": "code",
   "execution_count": 4,
   "id": "5ae288ff",
   "metadata": {},
   "outputs": [],
   "source": [
    "def counter(n):\n",
    "    \n",
    "    val=list(int2bin(n))\n",
    "    count=0\n",
    "    for i in val:\n",
    "        if i==\"1\":\n",
    "            count=count+1\n",
    "    return count"
   ]
  },
  {
   "cell_type": "code",
   "execution_count": 5,
   "id": "ab787332",
   "metadata": {},
   "outputs": [
    {
     "data": {
      "text/plain": [
       "2"
      ]
     },
     "execution_count": 5,
     "metadata": {},
     "output_type": "execute_result"
    }
   ],
   "source": [
    "counter(9)"
   ]
  },
  {
   "cell_type": "code",
   "execution_count": 6,
   "id": "0a910e3f",
   "metadata": {},
   "outputs": [],
   "source": [
    "def binaryGap(n):\n",
    "    \n",
    "    if counter(n)<2:\n",
    "        \n",
    "        return 0\n",
    "    \n",
    "    else:\n",
    "        \n",
    "        val=list(int2bin(n))\n",
    "        count=0\n",
    "        gap=[]\n",
    "        \n",
    "        for i in val:\n",
    "            \n",
    "            if i==\"1\":\n",
    "                gap.append(count)\n",
    "                count=0\n",
    "                continue\n",
    "            else:\n",
    "                count=count+1\n",
    "                \n",
    "        return max(gap)"
   ]
  },
  {
   "cell_type": "code",
   "execution_count": 7,
   "id": "a505de12",
   "metadata": {},
   "outputs": [
    {
     "data": {
      "text/plain": [
       "0"
      ]
     },
     "execution_count": 7,
     "metadata": {},
     "output_type": "execute_result"
    }
   ],
   "source": [
    "binaryGap(32)"
   ]
  }
 ],
 "metadata": {
  "kernelspec": {
   "display_name": "Python 3",
   "language": "python",
   "name": "python3"
  },
  "language_info": {
   "codemirror_mode": {
    "name": "ipython",
    "version": 3
   },
   "file_extension": ".py",
   "mimetype": "text/x-python",
   "name": "python",
   "nbconvert_exporter": "python",
   "pygments_lexer": "ipython3",
   "version": "3.8.8"
  }
 },
 "nbformat": 4,
 "nbformat_minor": 5
}
