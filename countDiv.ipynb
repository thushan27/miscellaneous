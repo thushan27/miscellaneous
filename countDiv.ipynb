{
 "cells": [
  {
   "cell_type": "code",
   "execution_count": 1,
   "id": "77436a4e",
   "metadata": {},
   "outputs": [
    {
     "data": {
      "text/plain": [
       "'CountDiv - Compute number of integers divisible by k in range [a..b]. '"
      ]
     },
     "execution_count": 1,
     "metadata": {},
     "output_type": "execute_result"
    }
   ],
   "source": [
    "\"\"\"CountDiv - Compute number of integers divisible by k in range [a..b]. \"\"\""
   ]
  },
  {
   "cell_type": "code",
   "execution_count": 2,
   "id": "4fdd3e44",
   "metadata": {},
   "outputs": [],
   "source": [
    "def countDiv(a, b, k):\n",
    "    \n",
    "    arr=[]\n",
    "    \n",
    "    for i in range(a,b+1):\n",
    "        if i%k==0:\n",
    "            arr.append(i)\n",
    "            \n",
    "    return len(arr)"
   ]
  },
  {
   "cell_type": "code",
   "execution_count": 3,
   "id": "5aba7b8e",
   "metadata": {},
   "outputs": [
    {
     "data": {
      "text/plain": [
       "3"
      ]
     },
     "execution_count": 3,
     "metadata": {},
     "output_type": "execute_result"
    }
   ],
   "source": [
    "countDiv(6,11,2)"
   ]
  }
 ],
 "metadata": {
  "kernelspec": {
   "display_name": "Python 3",
   "language": "python",
   "name": "python3"
  },
  "language_info": {
   "codemirror_mode": {
    "name": "ipython",
    "version": 3
   },
   "file_extension": ".py",
   "mimetype": "text/x-python",
   "name": "python",
   "nbconvert_exporter": "python",
   "pygments_lexer": "ipython3",
   "version": "3.8.8"
  }
 },
 "nbformat": 4,
 "nbformat_minor": 5
}
